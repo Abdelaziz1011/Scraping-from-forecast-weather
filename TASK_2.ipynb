{
 "cells": [
  {
   "cell_type": "markdown",
   "id": "4ddfb3d2",
   "metadata": {},
   "source": [
    "## Task2"
   ]
  },
  {
   "cell_type": "markdown",
   "id": "fd764ce1",
   "metadata": {},
   "source": [
    "## Scraping from forecast weather  Imagine you work for forecast weather Now imagine your boss wants you to find the temperture for each day in celsius degree. How could you do this with Beautiful Soup?\n",
    "https://forecast.weather.gov/MapClick.php?lat=37.7772&lon=-122.4168"
   ]
  },
  {
   "cell_type": "code",
   "execution_count": 1,
   "id": "c11b3640",
   "metadata": {},
   "outputs": [],
   "source": [
    "import requests\n",
    "from bs4 import BeautifulSoup"
   ]
  },
  {
   "cell_type": "code",
   "execution_count": 2,
   "id": "fec2fedb",
   "metadata": {},
   "outputs": [
    {
     "data": {
      "text/plain": [
       "'https://forecast.weather.gov/MapClick.php?lat=37.7772&lon=-122.4168'"
      ]
     },
     "execution_count": 2,
     "metadata": {},
     "output_type": "execute_result"
    }
   ],
   "source": [
    "url = \"https://forecast.weather.gov/MapClick.php?lat=37.7772&lon=-122.4168\"\n",
    "url"
   ]
  },
  {
   "cell_type": "code",
   "execution_count": 3,
   "id": "8ea7e245",
   "metadata": {},
   "outputs": [
    {
     "data": {
      "text/plain": [
       "<Response [200]>"
      ]
     },
     "execution_count": 3,
     "metadata": {},
     "output_type": "execute_result"
    }
   ],
   "source": [
    "response = requests.request(method=\"GET\", url=url)\n",
    "response"
   ]
  },
  {
   "cell_type": "code",
   "execution_count": 5,
   "id": "5a0e915c",
   "metadata": {},
   "outputs": [],
   "source": [
    "soup = BeautifulSoup(response.text, \"html.parser\")\n",
    "#soup"
   ]
  },
  {
   "cell_type": "code",
   "execution_count": 6,
   "id": "aa10991d",
   "metadata": {},
   "outputs": [],
   "source": [
    "week = soup.find(\"ul\", attrs={\"id\":\"seven-day-forecast-list\"})"
   ]
  },
  {
   "cell_type": "code",
   "execution_count": 15,
   "id": "4a32a92c",
   "metadata": {},
   "outputs": [
    {
     "name": "stdout",
     "output_type": "stream",
     "text": [
      "<li class=\"forecast-tombstone\">\n",
      " <div class=\"tombstone-container\">\n",
      "  <p class=\"period-name\">\n",
      "   This Afternoon\n",
      "  </p>\n",
      "  <p>\n",
      "   <img alt=\"This Afternoon: Sunny, with a high near 69. West southwest wind 6 to 9 mph. \" class=\"forecast-icon\" src=\"newimages/medium/few.png\" title=\"This Afternoon: Sunny, with a high near 69. West southwest wind 6 to 9 mph. \"/>\n",
      "  </p>\n",
      "  <p class=\"temp temp-high\">\n",
      "   High: 69 °F\n",
      "  </p>\n",
      "  <p class=\"short-desc\">\n",
      "   Sunny\n",
      "  </p>\n",
      " </div>\n",
      "</li>\n",
      "\n"
     ]
    }
   ],
   "source": [
    "periouds = week.find_all(\"li\", attrs={\"class\":\"forecast-tombstone\"})\n",
    "print(periouds[0].prettify()) "
   ]
  },
  {
   "cell_type": "code",
   "execution_count": 18,
   "id": "79501e92",
   "metadata": {},
   "outputs": [],
   "source": [
    "period_name = periouds[0].find(\"p\", attrs={\"class\":\"period-name\"}).text "
   ]
  },
  {
   "cell_type": "code",
   "execution_count": 19,
   "id": "9810755f",
   "metadata": {},
   "outputs": [
    {
     "data": {
      "text/plain": [
       "'High: 69 °F'"
      ]
     },
     "execution_count": 19,
     "metadata": {},
     "output_type": "execute_result"
    }
   ],
   "source": [
    "temperature = periouds[0].find(\"p\", attrs={\"class\":\"temp\"}).text"
   ]
  },
  {
   "cell_type": "code",
   "execution_count": 20,
   "id": "755fae39",
   "metadata": {},
   "outputs": [],
   "source": [
    "short_desc = periouds[0].find(\"p\", attrs={\"class\":\"short-desc\"}).text"
   ]
  },
  {
   "cell_type": "code",
   "execution_count": 24,
   "id": "ec1c3485",
   "metadata": {},
   "outputs": [],
   "source": [
    "long_desc = soup.find_all(\"div\", attrs={\"class\":\"col-sm-10\"})[0].text"
   ]
  },
  {
   "cell_type": "code",
   "execution_count": 26,
   "id": "f2c8e4bb",
   "metadata": {},
   "outputs": [
    {
     "data": {
      "text/plain": [
       "'Sunny, with a high near 69. West southwest wind 6 to 9 mph. '"
      ]
     },
     "execution_count": 26,
     "metadata": {},
     "output_type": "execute_result"
    }
   ],
   "source": [
    "long_desc"
   ]
  },
  {
   "cell_type": "code",
   "execution_count": 27,
   "id": "2da54922",
   "metadata": {},
   "outputs": [],
   "source": [
    "period_tags = week.select(\".forecast-tombstone .period-name\")"
   ]
  },
  {
   "cell_type": "code",
   "execution_count": 29,
   "id": "bddfe2db",
   "metadata": {},
   "outputs": [
    {
     "data": {
      "text/plain": [
       "['This Afternoon',\n",
       " 'Tonight',\n",
       " 'Friday',\n",
       " 'Friday Night',\n",
       " 'Saturday',\n",
       " 'Saturday Night',\n",
       " 'Sunday',\n",
       " 'Sunday Night',\n",
       " 'Monday']"
      ]
     },
     "execution_count": 29,
     "metadata": {},
     "output_type": "execute_result"
    }
   ],
   "source": [
    "days_periods = [name.text for name in period_tags]\n",
    "days_periods"
   ]
  },
  {
   "cell_type": "code",
   "execution_count": 31,
   "id": "3e5b9059",
   "metadata": {},
   "outputs": [
    {
     "data": {
      "text/plain": [
       "['High: 69 °F',\n",
       " 'Low: 52 °F',\n",
       " 'High: 68 °F',\n",
       " 'Low: 52 °F',\n",
       " 'High: 67 °F',\n",
       " 'Low: 54 °F',\n",
       " 'High: 67 °F',\n",
       " 'Low: 56 °F',\n",
       " 'High: 68 °F']"
      ]
     },
     "execution_count": 31,
     "metadata": {},
     "output_type": "execute_result"
    }
   ],
   "source": [
    "temps_tags = week.select(\".forecast-tombstone .temp\")\n",
    "temps_tags = [temp.text for temp in temps_tags]\n",
    "temps_tags"
   ]
  },
  {
   "cell_type": "code",
   "execution_count": 33,
   "id": "7132473e",
   "metadata": {},
   "outputs": [
    {
     "data": {
      "text/plain": [
       "['Sunny',\n",
       " 'Mostly Clear',\n",
       " 'Sunny',\n",
       " 'Mostly Clear',\n",
       " 'Sunny',\n",
       " 'Partly Cloudy',\n",
       " 'Mostly Sunny',\n",
       " 'Partly Cloudy',\n",
       " 'Mostly Cloudy']"
      ]
     },
     "execution_count": 33,
     "metadata": {},
     "output_type": "execute_result"
    }
   ],
   "source": [
    "short_desc_tags = week.select(\".forecast-tombstone .short-desc\")\n",
    "short_desc_tags = [short_desc.text for short_desc in short_desc_tags]\n",
    "short_desc_tags"
   ]
  },
  {
   "cell_type": "code",
   "execution_count": 39,
   "id": "71317208",
   "metadata": {},
   "outputs": [
    {
     "data": {
      "text/plain": [
       "['Sunny, with a high near 69. West southwest wind 6 to 9 mph.',\n",
       " 'Mostly clear, with a low around 52. Southwest wind 3 to 7 mph.',\n",
       " 'Sunny, with a high near 68. Light southwest wind becoming west southwest 5 to 10 mph in the morning.',\n",
       " 'Mostly clear, with a low around 52. Southwest wind 6 to 9 mph.',\n",
       " 'Sunny, with a high near 67. West wind 5 to 15 mph, with gusts as high as 24 mph.',\n",
       " 'Partly cloudy, with a low around 54.',\n",
       " 'Mostly sunny, with a high near 67.',\n",
       " 'Partly cloudy, with a low around 56.',\n",
       " 'Mostly cloudy, with a high near 68.']"
      ]
     },
     "execution_count": 39,
     "metadata": {},
     "output_type": "execute_result"
    }
   ],
   "source": [
    "long_desc_tags = week.select(\".forecast-tombstone .forecast-icon\")\n",
    "long_desc_tags[0][\"title\"].split(\":\")[1][1:]\n",
    "long_desc_tags = [lng_desc[\"title\"].split(\":\")[1].strip() for lng_desc in long_desc_tags]\n",
    "long_desc_tags"
   ]
  },
  {
   "cell_type": "code",
   "execution_count": 42,
   "id": "09a30866",
   "metadata": {},
   "outputs": [],
   "source": [
    "import pandas as pd"
   ]
  },
  {
   "cell_type": "code",
   "execution_count": 47,
   "id": "b46890fd",
   "metadata": {},
   "outputs": [],
   "source": [
    "forecast = {\n",
    "    \"period\":days_periods,\n",
    "    \"temperature\":temperature,\n",
    "    \"short description\":short_desc,\n",
    "    \"long description\":long_desc\n",
    "}"
   ]
  },
  {
   "cell_type": "code",
   "execution_count": 48,
   "id": "cd12205b",
   "metadata": {
    "scrolled": true
   },
   "outputs": [],
   "source": [
    "weather = pd.DataFrame(data=forecast)"
   ]
  },
  {
   "cell_type": "code",
   "execution_count": 49,
   "id": "f5bdbbf5",
   "metadata": {},
   "outputs": [
    {
     "data": {
      "text/html": [
       "<div>\n",
       "<style scoped>\n",
       "    .dataframe tbody tr th:only-of-type {\n",
       "        vertical-align: middle;\n",
       "    }\n",
       "\n",
       "    .dataframe tbody tr th {\n",
       "        vertical-align: top;\n",
       "    }\n",
       "\n",
       "    .dataframe thead th {\n",
       "        text-align: right;\n",
       "    }\n",
       "</style>\n",
       "<table border=\"1\" class=\"dataframe\">\n",
       "  <thead>\n",
       "    <tr style=\"text-align: right;\">\n",
       "      <th></th>\n",
       "      <th>period</th>\n",
       "      <th>temperature</th>\n",
       "      <th>short description</th>\n",
       "      <th>long description</th>\n",
       "    </tr>\n",
       "  </thead>\n",
       "  <tbody>\n",
       "    <tr>\n",
       "      <th>0</th>\n",
       "      <td>This Afternoon</td>\n",
       "      <td>High: 69 °F</td>\n",
       "      <td>Sunny</td>\n",
       "      <td>Sunny, with a high near 69. West southwest win...</td>\n",
       "    </tr>\n",
       "    <tr>\n",
       "      <th>1</th>\n",
       "      <td>Tonight</td>\n",
       "      <td>High: 69 °F</td>\n",
       "      <td>Sunny</td>\n",
       "      <td>Mostly clear, with a low around 52. Southwest ...</td>\n",
       "    </tr>\n",
       "    <tr>\n",
       "      <th>2</th>\n",
       "      <td>Friday</td>\n",
       "      <td>High: 69 °F</td>\n",
       "      <td>Sunny</td>\n",
       "      <td>Sunny, with a high near 68. Light southwest wi...</td>\n",
       "    </tr>\n",
       "    <tr>\n",
       "      <th>3</th>\n",
       "      <td>Friday Night</td>\n",
       "      <td>High: 69 °F</td>\n",
       "      <td>Sunny</td>\n",
       "      <td>Mostly clear, with a low around 52. Southwest ...</td>\n",
       "    </tr>\n",
       "    <tr>\n",
       "      <th>4</th>\n",
       "      <td>Saturday</td>\n",
       "      <td>High: 69 °F</td>\n",
       "      <td>Sunny</td>\n",
       "      <td>Sunny, with a high near 67. West wind 5 to 15 ...</td>\n",
       "    </tr>\n",
       "    <tr>\n",
       "      <th>5</th>\n",
       "      <td>Saturday Night</td>\n",
       "      <td>High: 69 °F</td>\n",
       "      <td>Sunny</td>\n",
       "      <td>Partly cloudy, with a low around 54.</td>\n",
       "    </tr>\n",
       "    <tr>\n",
       "      <th>6</th>\n",
       "      <td>Sunday</td>\n",
       "      <td>High: 69 °F</td>\n",
       "      <td>Sunny</td>\n",
       "      <td>Mostly sunny, with a high near 67.</td>\n",
       "    </tr>\n",
       "    <tr>\n",
       "      <th>7</th>\n",
       "      <td>Sunday Night</td>\n",
       "      <td>High: 69 °F</td>\n",
       "      <td>Sunny</td>\n",
       "      <td>Partly cloudy, with a low around 56.</td>\n",
       "    </tr>\n",
       "    <tr>\n",
       "      <th>8</th>\n",
       "      <td>Monday</td>\n",
       "      <td>High: 69 °F</td>\n",
       "      <td>Sunny</td>\n",
       "      <td>Mostly cloudy, with a high near 68.</td>\n",
       "    </tr>\n",
       "  </tbody>\n",
       "</table>\n",
       "</div>"
      ],
      "text/plain": [
       "           period  temperature short description  \\\n",
       "0  This Afternoon  High: 69 °F             Sunny   \n",
       "1         Tonight  High: 69 °F             Sunny   \n",
       "2          Friday  High: 69 °F             Sunny   \n",
       "3    Friday Night  High: 69 °F             Sunny   \n",
       "4        Saturday  High: 69 °F             Sunny   \n",
       "5  Saturday Night  High: 69 °F             Sunny   \n",
       "6          Sunday  High: 69 °F             Sunny   \n",
       "7    Sunday Night  High: 69 °F             Sunny   \n",
       "8          Monday  High: 69 °F             Sunny   \n",
       "\n",
       "                                    long description  \n",
       "0  Sunny, with a high near 69. West southwest win...  \n",
       "1  Mostly clear, with a low around 52. Southwest ...  \n",
       "2  Sunny, with a high near 68. Light southwest wi...  \n",
       "3  Mostly clear, with a low around 52. Southwest ...  \n",
       "4  Sunny, with a high near 67. West wind 5 to 15 ...  \n",
       "5               Partly cloudy, with a low around 54.  \n",
       "6                 Mostly sunny, with a high near 67.  \n",
       "7               Partly cloudy, with a low around 56.  \n",
       "8                Mostly cloudy, with a high near 68.  "
      ]
     },
     "execution_count": 49,
     "metadata": {},
     "output_type": "execute_result"
    }
   ],
   "source": [
    "weather"
   ]
  },
  {
   "cell_type": "code",
   "execution_count": 55,
   "id": "02612562",
   "metadata": {},
   "outputs": [
    {
     "name": "stdout",
     "output_type": "stream",
     "text": [
      "at item 0\n"
     ]
    },
    {
     "ename": "NameError",
     "evalue": "name 'periods' is not defined",
     "output_type": "error",
     "traceback": [
      "\u001b[1;31m---------------------------------------------------------------------------\u001b[0m",
      "\u001b[1;31mNameError\u001b[0m                                 Traceback (most recent call last)",
      "Cell \u001b[1;32mIn[55], line 5\u001b[0m\n\u001b[0;32m      3\u001b[0m \u001b[38;5;28;01mfor\u001b[39;00m p \u001b[38;5;129;01min\u001b[39;00m \u001b[38;5;28mrange\u001b[39m(\u001b[38;5;28mlen\u001b[39m(week)):\n\u001b[0;32m      4\u001b[0m     \u001b[38;5;28mprint\u001b[39m(\u001b[38;5;124mf\u001b[39m\u001b[38;5;124m\"\u001b[39m\u001b[38;5;124mat item \u001b[39m\u001b[38;5;132;01m{\u001b[39;00mp\u001b[38;5;132;01m}\u001b[39;00m\u001b[38;5;124m\"\u001b[39m)\n\u001b[1;32m----> 5\u001b[0m     periods \u001b[38;5;241m=\u001b[39m periods[p]\u001b[38;5;241m.\u001b[39mfind(\u001b[38;5;124m\"\u001b[39m\u001b[38;5;124mp\u001b[39m\u001b[38;5;124m\"\u001b[39m, attrs\u001b[38;5;241m=\u001b[39m{\u001b[38;5;124m\"\u001b[39m\u001b[38;5;124mclass\u001b[39m\u001b[38;5;124m\"\u001b[39m:\u001b[38;5;124m\"\u001b[39m\u001b[38;5;124mperiod-name\u001b[39m\u001b[38;5;124m\"\u001b[39m})\u001b[38;5;241m.\u001b[39mtext\n\u001b[0;32m      6\u001b[0m     temperature \u001b[38;5;241m=\u001b[39m periods[p]\u001b[38;5;241m.\u001b[39mfind(\u001b[38;5;124m\"\u001b[39m\u001b[38;5;124mp\u001b[39m\u001b[38;5;124m\"\u001b[39m, attrs\u001b[38;5;241m=\u001b[39m{\u001b[38;5;124m\"\u001b[39m\u001b[38;5;124mclass\u001b[39m\u001b[38;5;124m\"\u001b[39m:\u001b[38;5;124m\"\u001b[39m\u001b[38;5;124mtemp\u001b[39m\u001b[38;5;124m\"\u001b[39m})\u001b[38;5;241m.\u001b[39mtext\n\u001b[0;32m      7\u001b[0m     short_desc \u001b[38;5;241m=\u001b[39m periods[p]\u001b[38;5;241m.\u001b[39mfind(\u001b[38;5;124m\"\u001b[39m\u001b[38;5;124mp\u001b[39m\u001b[38;5;124m\"\u001b[39m, attrs\u001b[38;5;241m=\u001b[39m{\u001b[38;5;124m\"\u001b[39m\u001b[38;5;124mclass\u001b[39m\u001b[38;5;124m\"\u001b[39m:\u001b[38;5;124m\"\u001b[39m\u001b[38;5;124mshort-desc\u001b[39m\u001b[38;5;124m\"\u001b[39m})\u001b[38;5;241m.\u001b[39mtext\n",
      "\u001b[1;31mNameError\u001b[0m: name 'periods' is not defined"
     ]
    }
   ],
   "source": [
    "with open(\"forecast.csv\", mode=\"w\", encoding=\"utf-8\") as f:\n",
    "    f.write(\"period,temerature,short_description,long_description\\n\")\n",
    "    for p in range(len(week)):\n",
    "        print(f\"at item {p}\")\n",
    "        perio_name = periods[p].find(\"p\", attrs={\"class\":\"period-name\"}).text\n",
    "        temperature = periods[p].find(\"p\", attrs={\"class\":\"temp\"}).text\n",
    "        short_desc = periods[p].find(\"p\", attrs={\"class\":\"short-desc\"}).text\n",
    "        long_desc = soup.find_all(\"div\", attrs={\"class\":\"col-sm-10\"})[p].text\n",
    "        f.write(f\"{period_name},{temp},{short_desc},\\\"{long_desc}\\\"\\n\")"
   ]
  },
  {
   "cell_type": "code",
   "execution_count": null,
   "id": "2b47b734",
   "metadata": {},
   "outputs": [],
   "source": []
  }
 ],
 "metadata": {
  "kernelspec": {
   "display_name": "Python 3 (ipykernel)",
   "language": "python",
   "name": "python3"
  },
  "language_info": {
   "codemirror_mode": {
    "name": "ipython",
    "version": 3
   },
   "file_extension": ".py",
   "mimetype": "text/x-python",
   "name": "python",
   "nbconvert_exporter": "python",
   "pygments_lexer": "ipython3",
   "version": "3.11.5"
  }
 },
 "nbformat": 4,
 "nbformat_minor": 5
}
